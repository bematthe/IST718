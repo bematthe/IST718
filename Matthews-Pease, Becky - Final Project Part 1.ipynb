{
  "nbformat": 4,
  "nbformat_minor": 0,
  "metadata": {
    "colab": {
      "name": "IST718_GroupProject.ipynb",
      "provenance": [],
      "collapsed_sections": [],
      "machine_shape": "hm"
    },
    "kernelspec": {
      "name": "python3",
      "display_name": "Python 3"
    },
    "language_info": {
      "name": "python"
    }
  },
  "cells": [
    {
      "cell_type": "markdown",
      "metadata": {
        "id": "uP1k47c4DbP3"
      },
      "source": [
        "Created by: Jacqueline Parks\n",
        "\n",
        "IST 718 Group Project: Trending YouTube Statistics\n",
        "\n",
        "Due Date: 6/17/2021"
      ]
    },
    {
      "cell_type": "code",
      "metadata": {
        "id": "PNvz6K27uJ1H",
        "colab": {
          "base_uri": "https://localhost:8080/"
        },
        "outputId": "1575aa4b-efbc-4e7b-a586-01c3dd37b45c"
      },
      "source": [
        "# Load packages used in analysis and modeling\n",
        "import pandas as pd # data frame operations\n",
        "import datetime\n",
        "import seaborn as sns\n",
        "import json\n",
        "import nltk\n",
        "nltk.download('punkt')\n",
        "nltk.download('stopwords')\n",
        "nltk.download('wordnet')\n",
        "from nltk.corpus import stopwords\n",
        "import re\n",
        "import string\n",
        "import matplotlib.pyplot as plt\n",
        "from nltk.tokenize import word_tokenize\n",
        "from nltk.corpus import stopwords\n",
        "from nltk.stem.wordnet import WordNetLemmatizer"
      ],
      "execution_count": null,
      "outputs": [
        {
          "output_type": "stream",
          "text": [
            "[nltk_data] Downloading package punkt to /root/nltk_data...\n",
            "[nltk_data]   Unzipping tokenizers/punkt.zip.\n",
            "[nltk_data] Downloading package stopwords to /root/nltk_data...\n",
            "[nltk_data]   Unzipping corpora/stopwords.zip.\n",
            "[nltk_data] Downloading package wordnet to /root/nltk_data...\n",
            "[nltk_data]   Unzipping corpora/wordnet.zip.\n"
          ],
          "name": "stdout"
        }
      ]
    },
    {
      "cell_type": "code",
      "metadata": {
        "id": "ueoCDJFxnpQW"
      },
      "source": [
        "# Read in the data set\n",
        "df_us = pd.read_csv('USvideos.csv')"
      ],
      "execution_count": null,
      "outputs": []
    },
    {
      "cell_type": "code",
      "metadata": {
        "colab": {
          "base_uri": "https://localhost:8080/",
          "height": 501
        },
        "id": "QfvUj6sayXkR",
        "outputId": "b6ba2627-9195-43a1-b35f-4aff62ec6f9c"
      },
      "source": [
        "# View top 5 observations\n",
        "df_us.head()"
      ],
      "execution_count": null,
      "outputs": [
        {
          "output_type": "execute_result",
          "data": {
            "text/html": [
              "<div>\n",
              "<style scoped>\n",
              "    .dataframe tbody tr th:only-of-type {\n",
              "        vertical-align: middle;\n",
              "    }\n",
              "\n",
              "    .dataframe tbody tr th {\n",
              "        vertical-align: top;\n",
              "    }\n",
              "\n",
              "    .dataframe thead th {\n",
              "        text-align: right;\n",
              "    }\n",
              "</style>\n",
              "<table border=\"1\" class=\"dataframe\">\n",
              "  <thead>\n",
              "    <tr style=\"text-align: right;\">\n",
              "      <th></th>\n",
              "      <th>video_id</th>\n",
              "      <th>trending_date</th>\n",
              "      <th>title</th>\n",
              "      <th>channel_title</th>\n",
              "      <th>category_id</th>\n",
              "      <th>publish_time</th>\n",
              "      <th>tags</th>\n",
              "      <th>views</th>\n",
              "      <th>likes</th>\n",
              "      <th>dislikes</th>\n",
              "      <th>comment_count</th>\n",
              "      <th>thumbnail_link</th>\n",
              "      <th>comments_disabled</th>\n",
              "      <th>ratings_disabled</th>\n",
              "      <th>video_error_or_removed</th>\n",
              "      <th>description</th>\n",
              "    </tr>\n",
              "  </thead>\n",
              "  <tbody>\n",
              "    <tr>\n",
              "      <th>0</th>\n",
              "      <td>2kyS6SvSYSE</td>\n",
              "      <td>17.14.11</td>\n",
              "      <td>WE WANT TO TALK ABOUT OUR MARRIAGE</td>\n",
              "      <td>CaseyNeistat</td>\n",
              "      <td>22</td>\n",
              "      <td>2017-11-13T17:13:01.000Z</td>\n",
              "      <td>SHANtell martin</td>\n",
              "      <td>748374</td>\n",
              "      <td>57527</td>\n",
              "      <td>2966</td>\n",
              "      <td>15954</td>\n",
              "      <td>https://i.ytimg.com/vi/2kyS6SvSYSE/default.jpg</td>\n",
              "      <td>False</td>\n",
              "      <td>False</td>\n",
              "      <td>False</td>\n",
              "      <td>SHANTELL'S CHANNEL - https://www.youtube.com/s...</td>\n",
              "    </tr>\n",
              "    <tr>\n",
              "      <th>1</th>\n",
              "      <td>1ZAPwfrtAFY</td>\n",
              "      <td>17.14.11</td>\n",
              "      <td>The Trump Presidency: Last Week Tonight with J...</td>\n",
              "      <td>LastWeekTonight</td>\n",
              "      <td>24</td>\n",
              "      <td>2017-11-13T07:30:00.000Z</td>\n",
              "      <td>last week tonight trump presidency|\"last week ...</td>\n",
              "      <td>2418783</td>\n",
              "      <td>97185</td>\n",
              "      <td>6146</td>\n",
              "      <td>12703</td>\n",
              "      <td>https://i.ytimg.com/vi/1ZAPwfrtAFY/default.jpg</td>\n",
              "      <td>False</td>\n",
              "      <td>False</td>\n",
              "      <td>False</td>\n",
              "      <td>One year after the presidential election, John...</td>\n",
              "    </tr>\n",
              "    <tr>\n",
              "      <th>2</th>\n",
              "      <td>5qpjK5DgCt4</td>\n",
              "      <td>17.14.11</td>\n",
              "      <td>Racist Superman | Rudy Mancuso, King Bach &amp; Le...</td>\n",
              "      <td>Rudy Mancuso</td>\n",
              "      <td>23</td>\n",
              "      <td>2017-11-12T19:05:24.000Z</td>\n",
              "      <td>racist superman|\"rudy\"|\"mancuso\"|\"king\"|\"bach\"...</td>\n",
              "      <td>3191434</td>\n",
              "      <td>146033</td>\n",
              "      <td>5339</td>\n",
              "      <td>8181</td>\n",
              "      <td>https://i.ytimg.com/vi/5qpjK5DgCt4/default.jpg</td>\n",
              "      <td>False</td>\n",
              "      <td>False</td>\n",
              "      <td>False</td>\n",
              "      <td>WATCH MY PREVIOUS VIDEO ▶ \\n\\nSUBSCRIBE ► http...</td>\n",
              "    </tr>\n",
              "    <tr>\n",
              "      <th>3</th>\n",
              "      <td>puqaWrEC7tY</td>\n",
              "      <td>17.14.11</td>\n",
              "      <td>Nickelback Lyrics: Real or Fake?</td>\n",
              "      <td>Good Mythical Morning</td>\n",
              "      <td>24</td>\n",
              "      <td>2017-11-13T11:00:04.000Z</td>\n",
              "      <td>rhett and link|\"gmm\"|\"good mythical morning\"|\"...</td>\n",
              "      <td>343168</td>\n",
              "      <td>10172</td>\n",
              "      <td>666</td>\n",
              "      <td>2146</td>\n",
              "      <td>https://i.ytimg.com/vi/puqaWrEC7tY/default.jpg</td>\n",
              "      <td>False</td>\n",
              "      <td>False</td>\n",
              "      <td>False</td>\n",
              "      <td>Today we find out if Link is a Nickelback amat...</td>\n",
              "    </tr>\n",
              "    <tr>\n",
              "      <th>4</th>\n",
              "      <td>d380meD0W0M</td>\n",
              "      <td>17.14.11</td>\n",
              "      <td>I Dare You: GOING BALD!?</td>\n",
              "      <td>nigahiga</td>\n",
              "      <td>24</td>\n",
              "      <td>2017-11-12T18:01:41.000Z</td>\n",
              "      <td>ryan|\"higa\"|\"higatv\"|\"nigahiga\"|\"i dare you\"|\"...</td>\n",
              "      <td>2095731</td>\n",
              "      <td>132235</td>\n",
              "      <td>1989</td>\n",
              "      <td>17518</td>\n",
              "      <td>https://i.ytimg.com/vi/d380meD0W0M/default.jpg</td>\n",
              "      <td>False</td>\n",
              "      <td>False</td>\n",
              "      <td>False</td>\n",
              "      <td>I know it's been a while since we did this sho...</td>\n",
              "    </tr>\n",
              "  </tbody>\n",
              "</table>\n",
              "</div>"
            ],
            "text/plain": [
              "      video_id  ...                                        description\n",
              "0  2kyS6SvSYSE  ...  SHANTELL'S CHANNEL - https://www.youtube.com/s...\n",
              "1  1ZAPwfrtAFY  ...  One year after the presidential election, John...\n",
              "2  5qpjK5DgCt4  ...  WATCH MY PREVIOUS VIDEO ▶ \\n\\nSUBSCRIBE ► http...\n",
              "3  puqaWrEC7tY  ...  Today we find out if Link is a Nickelback amat...\n",
              "4  d380meD0W0M  ...  I know it's been a while since we did this sho...\n",
              "\n",
              "[5 rows x 16 columns]"
            ]
          },
          "metadata": {
            "tags": []
          },
          "execution_count": 3
        }
      ]
    },
    {
      "cell_type": "code",
      "metadata": {
        "colab": {
          "base_uri": "https://localhost:8080/",
          "height": 534
        },
        "id": "kYWudGg1ylJL",
        "outputId": "b967307d-dac4-4f8e-ba93-1e1755c17d15"
      },
      "source": [
        "# Display last 5 observations\n",
        "df_us.tail()"
      ],
      "execution_count": null,
      "outputs": [
        {
          "output_type": "execute_result",
          "data": {
            "text/html": [
              "<div>\n",
              "<style scoped>\n",
              "    .dataframe tbody tr th:only-of-type {\n",
              "        vertical-align: middle;\n",
              "    }\n",
              "\n",
              "    .dataframe tbody tr th {\n",
              "        vertical-align: top;\n",
              "    }\n",
              "\n",
              "    .dataframe thead th {\n",
              "        text-align: right;\n",
              "    }\n",
              "</style>\n",
              "<table border=\"1\" class=\"dataframe\">\n",
              "  <thead>\n",
              "    <tr style=\"text-align: right;\">\n",
              "      <th></th>\n",
              "      <th>video_id</th>\n",
              "      <th>trending_date</th>\n",
              "      <th>title</th>\n",
              "      <th>channel_title</th>\n",
              "      <th>category_id</th>\n",
              "      <th>publish_time</th>\n",
              "      <th>tags</th>\n",
              "      <th>views</th>\n",
              "      <th>likes</th>\n",
              "      <th>dislikes</th>\n",
              "      <th>comment_count</th>\n",
              "      <th>thumbnail_link</th>\n",
              "      <th>comments_disabled</th>\n",
              "      <th>ratings_disabled</th>\n",
              "      <th>video_error_or_removed</th>\n",
              "      <th>description</th>\n",
              "    </tr>\n",
              "  </thead>\n",
              "  <tbody>\n",
              "    <tr>\n",
              "      <th>40944</th>\n",
              "      <td>BZt0qjTWNhw</td>\n",
              "      <td>18.14.06</td>\n",
              "      <td>The Cat Who Caught the Laser</td>\n",
              "      <td>AaronsAnimals</td>\n",
              "      <td>15</td>\n",
              "      <td>2018-05-18T13:00:04.000Z</td>\n",
              "      <td>aarons animals|\"aarons\"|\"animals\"|\"cat\"|\"cats\"...</td>\n",
              "      <td>1685609</td>\n",
              "      <td>38160</td>\n",
              "      <td>1385</td>\n",
              "      <td>2657</td>\n",
              "      <td>https://i.ytimg.com/vi/BZt0qjTWNhw/default.jpg</td>\n",
              "      <td>False</td>\n",
              "      <td>False</td>\n",
              "      <td>False</td>\n",
              "      <td>The Cat Who Caught the Laser - Aaron's Animals</td>\n",
              "    </tr>\n",
              "    <tr>\n",
              "      <th>40945</th>\n",
              "      <td>1h7KV2sjUWY</td>\n",
              "      <td>18.14.06</td>\n",
              "      <td>True Facts : Ant Mutualism</td>\n",
              "      <td>zefrank1</td>\n",
              "      <td>22</td>\n",
              "      <td>2018-05-18T01:00:06.000Z</td>\n",
              "      <td>[none]</td>\n",
              "      <td>1064798</td>\n",
              "      <td>60008</td>\n",
              "      <td>382</td>\n",
              "      <td>3936</td>\n",
              "      <td>https://i.ytimg.com/vi/1h7KV2sjUWY/default.jpg</td>\n",
              "      <td>False</td>\n",
              "      <td>False</td>\n",
              "      <td>False</td>\n",
              "      <td>NaN</td>\n",
              "    </tr>\n",
              "    <tr>\n",
              "      <th>40946</th>\n",
              "      <td>D6Oy4LfoqsU</td>\n",
              "      <td>18.14.06</td>\n",
              "      <td>I GAVE SAFIYA NYGAARD A PERFECT HAIR MAKEOVER ...</td>\n",
              "      <td>Brad Mondo</td>\n",
              "      <td>24</td>\n",
              "      <td>2018-05-18T17:34:22.000Z</td>\n",
              "      <td>I gave safiya nygaard a perfect hair makeover ...</td>\n",
              "      <td>1066451</td>\n",
              "      <td>48068</td>\n",
              "      <td>1032</td>\n",
              "      <td>3992</td>\n",
              "      <td>https://i.ytimg.com/vi/D6Oy4LfoqsU/default.jpg</td>\n",
              "      <td>False</td>\n",
              "      <td>False</td>\n",
              "      <td>False</td>\n",
              "      <td>I had so much fun transforming Safiyas hair in...</td>\n",
              "    </tr>\n",
              "    <tr>\n",
              "      <th>40947</th>\n",
              "      <td>oV0zkMe1K8s</td>\n",
              "      <td>18.14.06</td>\n",
              "      <td>How Black Panther Should Have Ended</td>\n",
              "      <td>How It Should Have Ended</td>\n",
              "      <td>1</td>\n",
              "      <td>2018-05-17T17:00:04.000Z</td>\n",
              "      <td>Black Panther|\"HISHE\"|\"Marvel\"|\"Infinity War\"|...</td>\n",
              "      <td>5660813</td>\n",
              "      <td>192957</td>\n",
              "      <td>2846</td>\n",
              "      <td>13088</td>\n",
              "      <td>https://i.ytimg.com/vi/oV0zkMe1K8s/default.jpg</td>\n",
              "      <td>False</td>\n",
              "      <td>False</td>\n",
              "      <td>False</td>\n",
              "      <td>How Black Panther Should Have EndedWatch More ...</td>\n",
              "    </tr>\n",
              "    <tr>\n",
              "      <th>40948</th>\n",
              "      <td>ooyjaVdt-jA</td>\n",
              "      <td>18.14.06</td>\n",
              "      <td>Official Call of Duty®: Black Ops 4 — Multipla...</td>\n",
              "      <td>Call of Duty</td>\n",
              "      <td>20</td>\n",
              "      <td>2018-05-17T17:09:38.000Z</td>\n",
              "      <td>call of duty|\"cod\"|\"activision\"|\"Black Ops 4\"</td>\n",
              "      <td>10306119</td>\n",
              "      <td>357079</td>\n",
              "      <td>212976</td>\n",
              "      <td>144795</td>\n",
              "      <td>https://i.ytimg.com/vi/ooyjaVdt-jA/default.jpg</td>\n",
              "      <td>False</td>\n",
              "      <td>False</td>\n",
              "      <td>False</td>\n",
              "      <td>Call of Duty: Black Ops 4 Multiplayer raises t...</td>\n",
              "    </tr>\n",
              "  </tbody>\n",
              "</table>\n",
              "</div>"
            ],
            "text/plain": [
              "          video_id  ...                                        description\n",
              "40944  BZt0qjTWNhw  ...     The Cat Who Caught the Laser - Aaron's Animals\n",
              "40945  1h7KV2sjUWY  ...                                                NaN\n",
              "40946  D6Oy4LfoqsU  ...  I had so much fun transforming Safiyas hair in...\n",
              "40947  oV0zkMe1K8s  ...  How Black Panther Should Have EndedWatch More ...\n",
              "40948  ooyjaVdt-jA  ...  Call of Duty: Black Ops 4 Multiplayer raises t...\n",
              "\n",
              "[5 rows x 16 columns]"
            ]
          },
          "metadata": {
            "tags": []
          },
          "execution_count": 4
        }
      ]
    },
    {
      "cell_type": "markdown",
      "metadata": {
        "id": "bIIg3uD0yw-P"
      },
      "source": [
        "We see the videos published range from November 11, 2017 to May 17, 2018."
      ]
    },
    {
      "cell_type": "code",
      "metadata": {
        "colab": {
          "base_uri": "https://localhost:8080/"
        },
        "id": "Zk06MJkPy4kf",
        "outputId": "88c30b90-a96a-4deb-f3bc-572826f2c354"
      },
      "source": [
        "# Display number of rows\n",
        "print(\"Rows: \", df_us.shape[0])\n",
        "\n",
        "# and number of columns our data set contains\n",
        "print(\"Columns: \", df_us.shape[1])\n",
        "\n",
        "# Display the column names\n",
        "print(\"\\nFeatures: \\n\", df_us.columns.tolist())\n",
        "\n",
        "# Find any missing values\n",
        "print(\"\\nMissing values: \", df_us.isnull().sum().values.sum())\n",
        "\n",
        "# Count number of distinct observations\n",
        "print(\"\\nUnique values: \\n\", df_us.nunique())"
      ],
      "execution_count": null,
      "outputs": [
        {
          "output_type": "stream",
          "text": [
            "Rows:  40949\n",
            "Columns:  16\n",
            "\n",
            "Features: \n",
            " ['video_id', 'trending_date', 'title', 'channel_title', 'category_id', 'publish_time', 'tags', 'views', 'likes', 'dislikes', 'comment_count', 'thumbnail_link', 'comments_disabled', 'ratings_disabled', 'video_error_or_removed', 'description']\n",
            "\n",
            "Missing values:  570\n",
            "\n",
            "Unique values: \n",
            " video_id                   6351\n",
            "trending_date               205\n",
            "title                      6455\n",
            "channel_title              2207\n",
            "category_id                  16\n",
            "publish_time               6269\n",
            "tags                       6055\n",
            "views                     40478\n",
            "likes                     29850\n",
            "dislikes                   8516\n",
            "comment_count             13773\n",
            "thumbnail_link             6352\n",
            "comments_disabled             2\n",
            "ratings_disabled              2\n",
            "video_error_or_removed        2\n",
            "description                6901\n",
            "dtype: int64\n"
          ],
          "name": "stdout"
        }
      ]
    },
    {
      "cell_type": "markdown",
      "metadata": {
        "id": "lNB_JFa60GCw"
      },
      "source": [
        "Initial observations:\n",
        "*   There are 40,949 rows and 16 columns.\n",
        "*   Qualitative variables most important to our analysis are title, channel_title, category_id, tags, description.\n",
        "*   Quantitative variables most important to our analysis are publish_time, trending_date, views, likes, dislikes, comment_count.\n",
        "*   The remaining columns have no particular importance in our guided analysis.\n",
        "\n",
        "\n",
        "\n"
      ]
    },
    {
      "cell_type": "code",
      "metadata": {
        "colab": {
          "base_uri": "https://localhost:8080/"
        },
        "id": "8b2xL4yu3cGb",
        "outputId": "6687faaa-b9cd-47b1-f3a2-26548d6f8552"
      },
      "source": [
        "# Print data set information\n",
        "df_us.info()"
      ],
      "execution_count": null,
      "outputs": [
        {
          "output_type": "stream",
          "text": [
            "<class 'pandas.core.frame.DataFrame'>\n",
            "RangeIndex: 40949 entries, 0 to 40948\n",
            "Data columns (total 16 columns):\n",
            " #   Column                  Non-Null Count  Dtype \n",
            "---  ------                  --------------  ----- \n",
            " 0   video_id                40949 non-null  object\n",
            " 1   trending_date           40949 non-null  object\n",
            " 2   title                   40949 non-null  object\n",
            " 3   channel_title           40949 non-null  object\n",
            " 4   category_id             40949 non-null  int64 \n",
            " 5   publish_time            40949 non-null  object\n",
            " 6   tags                    40949 non-null  object\n",
            " 7   views                   40949 non-null  int64 \n",
            " 8   likes                   40949 non-null  int64 \n",
            " 9   dislikes                40949 non-null  int64 \n",
            " 10  comment_count           40949 non-null  int64 \n",
            " 11  thumbnail_link          40949 non-null  object\n",
            " 12  comments_disabled       40949 non-null  bool  \n",
            " 13  ratings_disabled        40949 non-null  bool  \n",
            " 14  video_error_or_removed  40949 non-null  bool  \n",
            " 15  description             40379 non-null  object\n",
            "dtypes: bool(3), int64(5), object(8)\n",
            "memory usage: 4.2+ MB\n"
          ],
          "name": "stdout"
        }
      ]
    },
    {
      "cell_type": "code",
      "metadata": {
        "colab": {
          "base_uri": "https://localhost:8080/"
        },
        "id": "ElZTNT6I4MHf",
        "outputId": "052e2280-372d-40f8-dae2-8510d45c02b2"
      },
      "source": [
        "# How many unique channels are there?\n",
        "df_us['channel_title'].value_counts()"
      ],
      "execution_count": null,
      "outputs": [
        {
          "output_type": "execute_result",
          "data": {
            "text/plain": [
              "ESPN                                      203\n",
              "The Tonight Show Starring Jimmy Fallon    197\n",
              "Vox                                       193\n",
              "Netflix                                   193\n",
              "TheEllenShow                              193\n",
              "                                         ... \n",
              "Storyful News                               1\n",
              "misleadingsilhouette                        1\n",
              "Ozuna                                       1\n",
              "KickThePj                                   1\n",
              "ClovesVEVO                                  1\n",
              "Name: channel_title, Length: 2207, dtype: int64"
            ]
          },
          "metadata": {
            "tags": []
          },
          "execution_count": 7
        }
      ]
    },
    {
      "cell_type": "code",
      "metadata": {
        "colab": {
          "base_uri": "https://localhost:8080/"
        },
        "id": "QEija60C4CFC",
        "outputId": "08b28407-e6ea-48ed-a639-f8b6ea1d9c5f"
      },
      "source": [
        "# How many unique videos are there?\n",
        "df_us['video_id'].value_counts()"
      ],
      "execution_count": null,
      "outputs": [
        {
          "output_type": "execute_result",
          "data": {
            "text/plain": [
              "j4KvrAUjn6c    30\n",
              "NBSAQenU2Bk    29\n",
              "8h--kFui1JA    29\n",
              "iILJvqrAQ_w    29\n",
              "t4pRQ0jn23Q    29\n",
              "               ..\n",
              "waRVWv_UDCk     1\n",
              "k3tWCZu42PQ     1\n",
              "pi0ePRY7TSc     1\n",
              "uyl6WtHEYOQ     1\n",
              "z7WjD5G5ZuY     1\n",
              "Name: video_id, Length: 6351, dtype: int64"
            ]
          },
          "metadata": {
            "tags": []
          },
          "execution_count": 8
        }
      ]
    },
    {
      "cell_type": "code",
      "metadata": {
        "colab": {
          "base_uri": "https://localhost:8080/"
        },
        "id": "Kq1u1J9d3siE",
        "outputId": "44b4c1b3-9eb9-440e-c1ac-4801cf09932d"
      },
      "source": [
        "# Row counts in each category\n",
        "df_us['category_id'].value_counts()"
      ],
      "execution_count": null,
      "outputs": [
        {
          "output_type": "execute_result",
          "data": {
            "text/plain": [
              "24    9964\n",
              "10    6472\n",
              "26    4146\n",
              "23    3457\n",
              "22    3210\n",
              "25    2487\n",
              "28    2401\n",
              "1     2345\n",
              "17    2174\n",
              "27    1656\n",
              "15     920\n",
              "20     817\n",
              "19     402\n",
              "2      384\n",
              "29      57\n",
              "43      57\n",
              "Name: category_id, dtype: int64"
            ]
          },
          "metadata": {
            "tags": []
          },
          "execution_count": 9
        }
      ]
    },
    {
      "cell_type": "markdown",
      "metadata": {
        "id": "9HQVuyAQ35_z"
      },
      "source": [
        "Additional data set observations:\n",
        "*   Category_id 24 has the maximum number of videos\n",
        "*   There are 2,207 unique channels\n",
        "*   There are 6,351 unique videos"
      ]
    },
    {
      "cell_type": "code",
      "metadata": {
        "colab": {
          "base_uri": "https://localhost:8080/",
          "height": 1000
        },
        "id": "z2Cn46bQ5Kab",
        "outputId": "b3034045-6cc9-4ed6-b59a-21caa46e5f11"
      },
      "source": [
        "# Select and order the top n entries\n",
        "df_us.nlargest(10,'views') # n=10"
      ],
      "execution_count": null,
      "outputs": [
        {
          "output_type": "execute_result",
          "data": {
            "text/html": [
              "<div>\n",
              "<style scoped>\n",
              "    .dataframe tbody tr th:only-of-type {\n",
              "        vertical-align: middle;\n",
              "    }\n",
              "\n",
              "    .dataframe tbody tr th {\n",
              "        vertical-align: top;\n",
              "    }\n",
              "\n",
              "    .dataframe thead th {\n",
              "        text-align: right;\n",
              "    }\n",
              "</style>\n",
              "<table border=\"1\" class=\"dataframe\">\n",
              "  <thead>\n",
              "    <tr style=\"text-align: right;\">\n",
              "      <th></th>\n",
              "      <th>video_id</th>\n",
              "      <th>trending_date</th>\n",
              "      <th>title</th>\n",
              "      <th>channel_title</th>\n",
              "      <th>category_id</th>\n",
              "      <th>publish_time</th>\n",
              "      <th>tags</th>\n",
              "      <th>views</th>\n",
              "      <th>likes</th>\n",
              "      <th>dislikes</th>\n",
              "      <th>comment_count</th>\n",
              "      <th>thumbnail_link</th>\n",
              "      <th>comments_disabled</th>\n",
              "      <th>ratings_disabled</th>\n",
              "      <th>video_error_or_removed</th>\n",
              "      <th>description</th>\n",
              "    </tr>\n",
              "  </thead>\n",
              "  <tbody>\n",
              "    <tr>\n",
              "      <th>38547</th>\n",
              "      <td>VYOjWnS4cMY</td>\n",
              "      <td>18.02.06</td>\n",
              "      <td>Childish Gambino - This Is America (Official V...</td>\n",
              "      <td>ChildishGambinoVEVO</td>\n",
              "      <td>10</td>\n",
              "      <td>2018-05-06T04:00:07.000Z</td>\n",
              "      <td>Childish Gambino|\"Rap\"|\"This Is America\"|\"mcDJ...</td>\n",
              "      <td>225211923</td>\n",
              "      <td>5023450</td>\n",
              "      <td>343541</td>\n",
              "      <td>517232</td>\n",
              "      <td>https://i.ytimg.com/vi/VYOjWnS4cMY/default.jpg</td>\n",
              "      <td>False</td>\n",
              "      <td>False</td>\n",
              "      <td>False</td>\n",
              "      <td>“This is America” by Childish Gambino http://s...</td>\n",
              "    </tr>\n",
              "    <tr>\n",
              "      <th>38345</th>\n",
              "      <td>VYOjWnS4cMY</td>\n",
              "      <td>18.01.06</td>\n",
              "      <td>Childish Gambino - This Is America (Official V...</td>\n",
              "      <td>ChildishGambinoVEVO</td>\n",
              "      <td>10</td>\n",
              "      <td>2018-05-06T04:00:07.000Z</td>\n",
              "      <td>Childish Gambino|\"Rap\"|\"This Is America\"|\"mcDJ...</td>\n",
              "      <td>220490543</td>\n",
              "      <td>4962403</td>\n",
              "      <td>338105</td>\n",
              "      <td>512337</td>\n",
              "      <td>https://i.ytimg.com/vi/VYOjWnS4cMY/default.jpg</td>\n",
              "      <td>False</td>\n",
              "      <td>False</td>\n",
              "      <td>False</td>\n",
              "      <td>“This is America” by Childish Gambino http://s...</td>\n",
              "    </tr>\n",
              "    <tr>\n",
              "      <th>38146</th>\n",
              "      <td>VYOjWnS4cMY</td>\n",
              "      <td>18.31.05</td>\n",
              "      <td>Childish Gambino - This Is America (Official V...</td>\n",
              "      <td>ChildishGambinoVEVO</td>\n",
              "      <td>10</td>\n",
              "      <td>2018-05-06T04:00:07.000Z</td>\n",
              "      <td>Childish Gambino|\"Rap\"|\"This Is America\"|\"mcDJ...</td>\n",
              "      <td>217750076</td>\n",
              "      <td>4934188</td>\n",
              "      <td>335462</td>\n",
              "      <td>509799</td>\n",
              "      <td>https://i.ytimg.com/vi/VYOjWnS4cMY/default.jpg</td>\n",
              "      <td>False</td>\n",
              "      <td>False</td>\n",
              "      <td>False</td>\n",
              "      <td>“This is America” by Childish Gambino http://s...</td>\n",
              "    </tr>\n",
              "    <tr>\n",
              "      <th>37935</th>\n",
              "      <td>VYOjWnS4cMY</td>\n",
              "      <td>18.30.05</td>\n",
              "      <td>Childish Gambino - This Is America (Official V...</td>\n",
              "      <td>ChildishGambinoVEVO</td>\n",
              "      <td>10</td>\n",
              "      <td>2018-05-06T04:00:07.000Z</td>\n",
              "      <td>Childish Gambino|\"Rap\"|\"This Is America\"|\"mcDJ...</td>\n",
              "      <td>210338856</td>\n",
              "      <td>4836448</td>\n",
              "      <td>326902</td>\n",
              "      <td>501722</td>\n",
              "      <td>https://i.ytimg.com/vi/VYOjWnS4cMY/default.jpg</td>\n",
              "      <td>False</td>\n",
              "      <td>False</td>\n",
              "      <td>False</td>\n",
              "      <td>“This is America” by Childish Gambino http://s...</td>\n",
              "    </tr>\n",
              "    <tr>\n",
              "      <th>37730</th>\n",
              "      <td>VYOjWnS4cMY</td>\n",
              "      <td>18.29.05</td>\n",
              "      <td>Childish Gambino - This Is America (Official V...</td>\n",
              "      <td>ChildishGambinoVEVO</td>\n",
              "      <td>10</td>\n",
              "      <td>2018-05-06T04:00:07.000Z</td>\n",
              "      <td>Childish Gambino|\"Rap\"|\"This Is America\"|\"mcDJ...</td>\n",
              "      <td>205643016</td>\n",
              "      <td>4776680</td>\n",
              "      <td>321493</td>\n",
              "      <td>496211</td>\n",
              "      <td>https://i.ytimg.com/vi/VYOjWnS4cMY/default.jpg</td>\n",
              "      <td>False</td>\n",
              "      <td>False</td>\n",
              "      <td>False</td>\n",
              "      <td>“This is America” by Childish Gambino http://s...</td>\n",
              "    </tr>\n",
              "    <tr>\n",
              "      <th>37531</th>\n",
              "      <td>VYOjWnS4cMY</td>\n",
              "      <td>18.28.05</td>\n",
              "      <td>Childish Gambino - This Is America (Official V...</td>\n",
              "      <td>ChildishGambinoVEVO</td>\n",
              "      <td>10</td>\n",
              "      <td>2018-05-06T04:00:07.000Z</td>\n",
              "      <td>Childish Gambino|\"Rap\"|\"This Is America\"|\"mcDJ...</td>\n",
              "      <td>200820941</td>\n",
              "      <td>4714942</td>\n",
              "      <td>316129</td>\n",
              "      <td>491005</td>\n",
              "      <td>https://i.ytimg.com/vi/VYOjWnS4cMY/default.jpg</td>\n",
              "      <td>False</td>\n",
              "      <td>False</td>\n",
              "      <td>False</td>\n",
              "      <td>“This is America” by Childish Gambino http://s...</td>\n",
              "    </tr>\n",
              "    <tr>\n",
              "      <th>37333</th>\n",
              "      <td>VYOjWnS4cMY</td>\n",
              "      <td>18.27.05</td>\n",
              "      <td>Childish Gambino - This Is America (Official V...</td>\n",
              "      <td>ChildishGambinoVEVO</td>\n",
              "      <td>10</td>\n",
              "      <td>2018-05-06T04:00:07.000Z</td>\n",
              "      <td>Childish Gambino|\"Rap\"|\"This Is America\"|\"mcDJ...</td>\n",
              "      <td>196222618</td>\n",
              "      <td>4656929</td>\n",
              "      <td>311042</td>\n",
              "      <td>485797</td>\n",
              "      <td>https://i.ytimg.com/vi/VYOjWnS4cMY/default.jpg</td>\n",
              "      <td>False</td>\n",
              "      <td>False</td>\n",
              "      <td>False</td>\n",
              "      <td>“This is America” by Childish Gambino http://s...</td>\n",
              "    </tr>\n",
              "    <tr>\n",
              "      <th>37123</th>\n",
              "      <td>VYOjWnS4cMY</td>\n",
              "      <td>18.26.05</td>\n",
              "      <td>Childish Gambino - This Is America (Official V...</td>\n",
              "      <td>ChildishGambinoVEVO</td>\n",
              "      <td>10</td>\n",
              "      <td>2018-05-06T04:00:07.000Z</td>\n",
              "      <td>Childish Gambino|\"Rap\"|\"This Is America\"|\"mcDJ...</td>\n",
              "      <td>190950401</td>\n",
              "      <td>4594931</td>\n",
              "      <td>305435</td>\n",
              "      <td>479917</td>\n",
              "      <td>https://i.ytimg.com/vi/VYOjWnS4cMY/default.jpg</td>\n",
              "      <td>False</td>\n",
              "      <td>False</td>\n",
              "      <td>False</td>\n",
              "      <td>“This is America” by Childish Gambino http://s...</td>\n",
              "    </tr>\n",
              "    <tr>\n",
              "      <th>36913</th>\n",
              "      <td>VYOjWnS4cMY</td>\n",
              "      <td>18.25.05</td>\n",
              "      <td>Childish Gambino - This Is America (Official V...</td>\n",
              "      <td>ChildishGambinoVEVO</td>\n",
              "      <td>10</td>\n",
              "      <td>2018-05-06T04:00:07.000Z</td>\n",
              "      <td>Childish Gambino|\"Rap\"|\"This Is America\"|\"mcDJ...</td>\n",
              "      <td>184446490</td>\n",
              "      <td>4512326</td>\n",
              "      <td>298157</td>\n",
              "      <td>473039</td>\n",
              "      <td>https://i.ytimg.com/vi/VYOjWnS4cMY/default.jpg</td>\n",
              "      <td>False</td>\n",
              "      <td>False</td>\n",
              "      <td>False</td>\n",
              "      <td>“This is America” by Childish Gambino http://s...</td>\n",
              "    </tr>\n",
              "    <tr>\n",
              "      <th>36710</th>\n",
              "      <td>VYOjWnS4cMY</td>\n",
              "      <td>18.24.05</td>\n",
              "      <td>Childish Gambino - This Is America (Official V...</td>\n",
              "      <td>ChildishGambinoVEVO</td>\n",
              "      <td>10</td>\n",
              "      <td>2018-05-06T04:00:07.000Z</td>\n",
              "      <td>Childish Gambino|\"Rap\"|\"This Is America\"|\"mcDJ...</td>\n",
              "      <td>179045286</td>\n",
              "      <td>4437175</td>\n",
              "      <td>291098</td>\n",
              "      <td>466470</td>\n",
              "      <td>https://i.ytimg.com/vi/VYOjWnS4cMY/default.jpg</td>\n",
              "      <td>False</td>\n",
              "      <td>False</td>\n",
              "      <td>False</td>\n",
              "      <td>“This is America” by Childish Gambino http://s...</td>\n",
              "    </tr>\n",
              "  </tbody>\n",
              "</table>\n",
              "</div>"
            ],
            "text/plain": [
              "          video_id  ...                                        description\n",
              "38547  VYOjWnS4cMY  ...  “This is America” by Childish Gambino http://s...\n",
              "38345  VYOjWnS4cMY  ...  “This is America” by Childish Gambino http://s...\n",
              "38146  VYOjWnS4cMY  ...  “This is America” by Childish Gambino http://s...\n",
              "37935  VYOjWnS4cMY  ...  “This is America” by Childish Gambino http://s...\n",
              "37730  VYOjWnS4cMY  ...  “This is America” by Childish Gambino http://s...\n",
              "37531  VYOjWnS4cMY  ...  “This is America” by Childish Gambino http://s...\n",
              "37333  VYOjWnS4cMY  ...  “This is America” by Childish Gambino http://s...\n",
              "37123  VYOjWnS4cMY  ...  “This is America” by Childish Gambino http://s...\n",
              "36913  VYOjWnS4cMY  ...  “This is America” by Childish Gambino http://s...\n",
              "36710  VYOjWnS4cMY  ...  “This is America” by Childish Gambino http://s...\n",
              "\n",
              "[10 rows x 16 columns]"
            ]
          },
          "metadata": {
            "tags": []
          },
          "execution_count": 10
        }
      ]
    },
    {
      "cell_type": "markdown",
      "metadata": {
        "id": "SD00PfGI_Nsf"
      },
      "source": [
        "# Data Pre-Processing"
      ]
    },
    {
      "cell_type": "code",
      "metadata": {
        "id": "wWTIsQsgI8zv"
      },
      "source": [
        "# Transforming publish_time to datetime\n",
        "publish_time = pd.to_datetime(df_us.publish_time, format='%Y-%m-%dT%H:%M:%S.%fZ')\n",
        "\n",
        "# Create Variable publish_date\n",
        "df_us['publish_date'] = publish_time.dt.date\n",
        "\n",
        "# Drop publish_time\n",
        "df_us.drop('publish_time',axis=1,inplace=True)\n",
        "\n",
        "# Transform trending_date to datetime\n",
        "df_us['trending_date'] = pd.to_datetime(df_us['trending_date'], format='%y.%d.%m').dt.date"
      ],
      "execution_count": null,
      "outputs": []
    },
    {
      "cell_type": "code",
      "metadata": {
        "colab": {
          "base_uri": "https://localhost:8080/"
        },
        "id": "9Ey4rpS8w80a",
        "outputId": "4c4a1352-e7b8-407b-d1aa-65247f5a0754"
      },
      "source": [
        "# Create New Variable Counting Days to Achieving Trending Status\n",
        "df_us['days_to_trending'] = (df_us.trending_date - df_us.publish_date).dt.days\n",
        "df_us.days_to_trending.describe(percentiles=[.05,.25,.5,.75,.95])"
      ],
      "execution_count": null,
      "outputs": [
        {
          "output_type": "execute_result",
          "data": {
            "text/plain": [
              "count    40949.000000\n",
              "mean        16.810423\n",
              "std        146.014303\n",
              "min          0.000000\n",
              "5%           1.000000\n",
              "25%          3.000000\n",
              "50%          5.000000\n",
              "75%          9.000000\n",
              "95%         17.000000\n",
              "max       4215.000000\n",
              "Name: days_to_trending, dtype: float64"
            ]
          },
          "metadata": {
            "tags": []
          },
          "execution_count": 12
        }
      ]
    },
    {
      "cell_type": "markdown",
      "metadata": {
        "id": "Yhr-LmYZ_TbA"
      },
      "source": [
        "Missing Values"
      ]
    },
    {
      "cell_type": "code",
      "metadata": {
        "colab": {
          "base_uri": "https://localhost:8080/"
        },
        "id": "egpuAgqoJuo0",
        "outputId": "86915501-3c24-44d8-aa62-316daa852738"
      },
      "source": [
        "# Missing Values\n",
        "df_us.isna().sum()"
      ],
      "execution_count": null,
      "outputs": [
        {
          "output_type": "execute_result",
          "data": {
            "text/plain": [
              "video_id                    0\n",
              "trending_date               0\n",
              "title                       0\n",
              "channel_title               0\n",
              "category_id                 0\n",
              "tags                        0\n",
              "views                       0\n",
              "likes                       0\n",
              "dislikes                    0\n",
              "comment_count               0\n",
              "thumbnail_link              0\n",
              "comments_disabled           0\n",
              "ratings_disabled            0\n",
              "video_error_or_removed      0\n",
              "description               570\n",
              "publish_date                0\n",
              "days_to_trending            0\n",
              "dtype: int64"
            ]
          },
          "metadata": {
            "tags": []
          },
          "execution_count": 13
        }
      ]
    },
    {
      "cell_type": "markdown",
      "metadata": {
        "id": "cFhCkrR0J4gQ"
      },
      "source": [
        "In the US data set, description is missing 570 observations missing."
      ]
    },
    {
      "cell_type": "code",
      "metadata": {
        "id": "EYPcXVrAJOew"
      },
      "source": [
        "# One way to fill in the missing descriptions is to add statement \"No description provided\".\n",
        "df_us.description.fillna('No description provided',inplace=True) \n",
        "df_us.dropna(axis=0,inplace=True)"
      ],
      "execution_count": null,
      "outputs": []
    },
    {
      "cell_type": "code",
      "metadata": {
        "colab": {
          "base_uri": "https://localhost:8080/",
          "height": 647
        },
        "id": "oKc988gF1s2F",
        "outputId": "4711f70e-a310-4b3c-8b54-f9600023f5e9"
      },
      "source": [
        "# Various counts of videos in each channel category\n",
        "df_us.groupby(\"channel_title\").size().reset_index(name=\"views\") \\\n",
        "    .sort_values(\"views\", ascending=False).head(20)"
      ],
      "execution_count": null,
      "outputs": [
        {
          "output_type": "execute_result",
          "data": {
            "text/html": [
              "<div>\n",
              "<style scoped>\n",
              "    .dataframe tbody tr th:only-of-type {\n",
              "        vertical-align: middle;\n",
              "    }\n",
              "\n",
              "    .dataframe tbody tr th {\n",
              "        vertical-align: top;\n",
              "    }\n",
              "\n",
              "    .dataframe thead th {\n",
              "        text-align: right;\n",
              "    }\n",
              "</style>\n",
              "<table border=\"1\" class=\"dataframe\">\n",
              "  <thead>\n",
              "    <tr style=\"text-align: right;\">\n",
              "      <th></th>\n",
              "      <th>channel_title</th>\n",
              "      <th>views</th>\n",
              "    </tr>\n",
              "  </thead>\n",
              "  <tbody>\n",
              "    <tr>\n",
              "      <th>555</th>\n",
              "      <td>ESPN</td>\n",
              "      <td>203</td>\n",
              "    </tr>\n",
              "    <tr>\n",
              "      <th>1785</th>\n",
              "      <td>The Tonight Show Starring Jimmy Fallon</td>\n",
              "      <td>197</td>\n",
              "    </tr>\n",
              "    <tr>\n",
              "      <th>1943</th>\n",
              "      <td>Vox</td>\n",
              "      <td>193</td>\n",
              "    </tr>\n",
              "    <tr>\n",
              "      <th>1271</th>\n",
              "      <td>Netflix</td>\n",
              "      <td>193</td>\n",
              "    </tr>\n",
              "    <tr>\n",
              "      <th>1804</th>\n",
              "      <td>TheEllenShow</td>\n",
              "      <td>193</td>\n",
              "    </tr>\n",
              "    <tr>\n",
              "      <th>1753</th>\n",
              "      <td>The Late Show with Stephen Colbert</td>\n",
              "      <td>187</td>\n",
              "    </tr>\n",
              "    <tr>\n",
              "      <th>889</th>\n",
              "      <td>Jimmy Kimmel Live</td>\n",
              "      <td>186</td>\n",
              "    </tr>\n",
              "    <tr>\n",
              "      <th>1009</th>\n",
              "      <td>Late Night with Seth Meyers</td>\n",
              "      <td>183</td>\n",
              "    </tr>\n",
              "    <tr>\n",
              "      <th>1556</th>\n",
              "      <td>Screen Junkies</td>\n",
              "      <td>182</td>\n",
              "    </tr>\n",
              "    <tr>\n",
              "      <th>1239</th>\n",
              "      <td>NBA</td>\n",
              "      <td>181</td>\n",
              "    </tr>\n",
              "    <tr>\n",
              "      <th>301</th>\n",
              "      <td>CNN</td>\n",
              "      <td>180</td>\n",
              "    </tr>\n",
              "    <tr>\n",
              "      <th>1545</th>\n",
              "      <td>Saturday Night Live</td>\n",
              "      <td>175</td>\n",
              "    </tr>\n",
              "    <tr>\n",
              "      <th>1950</th>\n",
              "      <td>WIRED</td>\n",
              "      <td>171</td>\n",
              "    </tr>\n",
              "    <tr>\n",
              "      <th>273</th>\n",
              "      <td>BuzzFeedVideo</td>\n",
              "      <td>169</td>\n",
              "    </tr>\n",
              "    <tr>\n",
              "      <th>807</th>\n",
              "      <td>INSIDER</td>\n",
              "      <td>167</td>\n",
              "    </tr>\n",
              "    <tr>\n",
              "      <th>1752</th>\n",
              "      <td>The Late Late Show with James Corden</td>\n",
              "      <td>163</td>\n",
              "    </tr>\n",
              "    <tr>\n",
              "      <th>1676</th>\n",
              "      <td>TED-Ed</td>\n",
              "      <td>162</td>\n",
              "    </tr>\n",
              "    <tr>\n",
              "      <th>1851</th>\n",
              "      <td>Tom Scott</td>\n",
              "      <td>159</td>\n",
              "    </tr>\n",
              "    <tr>\n",
              "      <th>1956</th>\n",
              "      <td>WWE</td>\n",
              "      <td>157</td>\n",
              "    </tr>\n",
              "    <tr>\n",
              "      <th>410</th>\n",
              "      <td>CollegeHumor</td>\n",
              "      <td>156</td>\n",
              "    </tr>\n",
              "  </tbody>\n",
              "</table>\n",
              "</div>"
            ],
            "text/plain": [
              "                               channel_title  views\n",
              "555                                     ESPN    203\n",
              "1785  The Tonight Show Starring Jimmy Fallon    197\n",
              "1943                                     Vox    193\n",
              "1271                                 Netflix    193\n",
              "1804                            TheEllenShow    193\n",
              "1753      The Late Show with Stephen Colbert    187\n",
              "889                        Jimmy Kimmel Live    186\n",
              "1009             Late Night with Seth Meyers    183\n",
              "1556                          Screen Junkies    182\n",
              "1239                                     NBA    181\n",
              "301                                      CNN    180\n",
              "1545                     Saturday Night Live    175\n",
              "1950                                   WIRED    171\n",
              "273                            BuzzFeedVideo    169\n",
              "807                                  INSIDER    167\n",
              "1752    The Late Late Show with James Corden    163\n",
              "1676                                  TED-Ed    162\n",
              "1851                               Tom Scott    159\n",
              "1956                                     WWE    157\n",
              "410                             CollegeHumor    156"
            ]
          },
          "metadata": {
            "tags": []
          },
          "execution_count": 15
        }
      ]
    },
    {
      "cell_type": "code",
      "metadata": {
        "colab": {
          "base_uri": "https://localhost:8080/",
          "height": 530
        },
        "id": "qJm_pbbCxV20",
        "outputId": "0632cb7e-3882-480a-98f4-887e1d877efa"
      },
      "source": [
        "sns.set(font_scale=1.5,rc={'figure.figsize':(11.7,8.27)})\n",
        "tmp = df_us.channel_title.value_counts()[:25]\n",
        "_ = sns.barplot(y=tmp.index,x=tmp)"
      ],
      "execution_count": null,
      "outputs": [
        {
          "output_type": "display_data",
          "data": {
            "image/png": "[encoded data removed]",
            "text/plain": [
              "<Figure size 842.4x595.44 with 1 Axes>"
            ]
          },
          "metadata": {
            "tags": []
          }
        }
      ]
    },
    {
      "cell_type": "code",
      "metadata": {
        "id": "26p3UGPi2XxF"
      },
      "source": [
        "with open(\"US_category_id.json\") as f:\n",
        "    categories = json.load(f)[\"items\"]\n",
        "cat_dict = {}\n",
        "category=[]\n",
        "for cat in categories:\n",
        "    category.append([cat[\"id\"],cat[\"snippet\"][\"title\"]])"
      ],
      "execution_count": null,
      "outputs": []
    },
    {
      "cell_type": "code",
      "metadata": {
        "colab": {
          "base_uri": "https://localhost:8080/",
          "height": 647
        },
        "id": "eZKVAX-a2tB6",
        "outputId": "e3d2549f-f0b9-4e0b-ac6f-9592c590525d"
      },
      "source": [
        "df_category =pd.DataFrame(category,columns=['category_id','category_title']) \n",
        "df_category.head(20)"
      ],
      "execution_count": null,
      "outputs": [
        {
          "output_type": "execute_result",
          "data": {
            "text/html": [
              "<div>\n",
              "<style scoped>\n",
              "    .dataframe tbody tr th:only-of-type {\n",
              "        vertical-align: middle;\n",
              "    }\n",
              "\n",
              "    .dataframe tbody tr th {\n",
              "        vertical-align: top;\n",
              "    }\n",
              "\n",
              "    .dataframe thead th {\n",
              "        text-align: right;\n",
              "    }\n",
              "</style>\n",
              "<table border=\"1\" class=\"dataframe\">\n",
              "  <thead>\n",
              "    <tr style=\"text-align: right;\">\n",
              "      <th></th>\n",
              "      <th>category_id</th>\n",
              "      <th>category_title</th>\n",
              "    </tr>\n",
              "  </thead>\n",
              "  <tbody>\n",
              "    <tr>\n",
              "      <th>0</th>\n",
              "      <td>1</td>\n",
              "      <td>Film &amp; Animation</td>\n",
              "    </tr>\n",
              "    <tr>\n",
              "      <th>1</th>\n",
              "      <td>2</td>\n",
              "      <td>Autos &amp; Vehicles</td>\n",
              "    </tr>\n",
              "    <tr>\n",
              "      <th>2</th>\n",
              "      <td>10</td>\n",
              "      <td>Music</td>\n",
              "    </tr>\n",
              "    <tr>\n",
              "      <th>3</th>\n",
              "      <td>15</td>\n",
              "      <td>Pets &amp; Animals</td>\n",
              "    </tr>\n",
              "    <tr>\n",
              "      <th>4</th>\n",
              "      <td>17</td>\n",
              "      <td>Sports</td>\n",
              "    </tr>\n",
              "    <tr>\n",
              "      <th>5</th>\n",
              "      <td>18</td>\n",
              "      <td>Short Movies</td>\n",
              "    </tr>\n",
              "    <tr>\n",
              "      <th>6</th>\n",
              "      <td>19</td>\n",
              "      <td>Travel &amp; Events</td>\n",
              "    </tr>\n",
              "    <tr>\n",
              "      <th>7</th>\n",
              "      <td>20</td>\n",
              "      <td>Gaming</td>\n",
              "    </tr>\n",
              "    <tr>\n",
              "      <th>8</th>\n",
              "      <td>21</td>\n",
              "      <td>Videoblogging</td>\n",
              "    </tr>\n",
              "    <tr>\n",
              "      <th>9</th>\n",
              "      <td>22</td>\n",
              "      <td>People &amp; Blogs</td>\n",
              "    </tr>\n",
              "    <tr>\n",
              "      <th>10</th>\n",
              "      <td>23</td>\n",
              "      <td>Comedy</td>\n",
              "    </tr>\n",
              "    <tr>\n",
              "      <th>11</th>\n",
              "      <td>24</td>\n",
              "      <td>Entertainment</td>\n",
              "    </tr>\n",
              "    <tr>\n",
              "      <th>12</th>\n",
              "      <td>25</td>\n",
              "      <td>News &amp; Politics</td>\n",
              "    </tr>\n",
              "    <tr>\n",
              "      <th>13</th>\n",
              "      <td>26</td>\n",
              "      <td>Howto &amp; Style</td>\n",
              "    </tr>\n",
              "    <tr>\n",
              "      <th>14</th>\n",
              "      <td>27</td>\n",
              "      <td>Education</td>\n",
              "    </tr>\n",
              "    <tr>\n",
              "      <th>15</th>\n",
              "      <td>28</td>\n",
              "      <td>Science &amp; Technology</td>\n",
              "    </tr>\n",
              "    <tr>\n",
              "      <th>16</th>\n",
              "      <td>29</td>\n",
              "      <td>Nonprofits &amp; Activism</td>\n",
              "    </tr>\n",
              "    <tr>\n",
              "      <th>17</th>\n",
              "      <td>30</td>\n",
              "      <td>Movies</td>\n",
              "    </tr>\n",
              "    <tr>\n",
              "      <th>18</th>\n",
              "      <td>31</td>\n",
              "      <td>Anime/Animation</td>\n",
              "    </tr>\n",
              "    <tr>\n",
              "      <th>19</th>\n",
              "      <td>32</td>\n",
              "      <td>Action/Adventure</td>\n",
              "    </tr>\n",
              "  </tbody>\n",
              "</table>\n",
              "</div>"
            ],
            "text/plain": [
              "   category_id         category_title\n",
              "0            1       Film & Animation\n",
              "1            2       Autos & Vehicles\n",
              "2           10                  Music\n",
              "3           15         Pets & Animals\n",
              "4           17                 Sports\n",
              "5           18           Short Movies\n",
              "6           19        Travel & Events\n",
              "7           20                 Gaming\n",
              "8           21          Videoblogging\n",
              "9           22         People & Blogs\n",
              "10          23                 Comedy\n",
              "11          24          Entertainment\n",
              "12          25        News & Politics\n",
              "13          26          Howto & Style\n",
              "14          27              Education\n",
              "15          28   Science & Technology\n",
              "16          29  Nonprofits & Activism\n",
              "17          30                 Movies\n",
              "18          31        Anime/Animation\n",
              "19          32       Action/Adventure"
            ]
          },
          "metadata": {
            "tags": []
          },
          "execution_count": 18
        }
      ]
    },
    {
      "cell_type": "code",
      "metadata": {
        "colab": {
          "base_uri": "https://localhost:8080/"
        },
        "id": "SetQ6yxt3ZGr",
        "outputId": "f2c1acd7-5182-47c8-9b88-54f52b1fa0d6"
      },
      "source": [
        "df_category.category_id=df_category.category_id.astype('int64')\n",
        "# Merge df_us and df_category to get category names\n",
        "df_merge = df_us.merge(df_category, on = 'category_id', how = 'inner')\n",
        "df_merge['category_title']"
      ],
      "execution_count": null,
      "outputs": [
        {
          "output_type": "execute_result",
          "data": {
            "text/plain": [
              "0        People & Blogs\n",
              "1        People & Blogs\n",
              "2        People & Blogs\n",
              "3        People & Blogs\n",
              "4        People & Blogs\n",
              "              ...      \n",
              "40944             Shows\n",
              "40945             Shows\n",
              "40946             Shows\n",
              "40947             Shows\n",
              "40948             Shows\n",
              "Name: category_title, Length: 40949, dtype: object"
            ]
          },
          "metadata": {
            "tags": []
          },
          "execution_count": 19
        }
      ]
    },
    {
      "cell_type": "code",
      "metadata": {
        "colab": {
          "base_uri": "https://localhost:8080/",
          "height": 587
        },
        "id": "w-mg4FdI4NvC",
        "outputId": "a8dcbc8a-d3e2-473d-8664-8f28d3fa093f"
      },
      "source": [
        "agg_func_count = {'views': ['count', 'nunique', 'size']}\n",
        "df_merge.groupby(['category_title']).agg(agg_func_count)"
      ],
      "execution_count": null,
      "outputs": [
        {
          "output_type": "execute_result",
          "data": {
            "text/html": [
              "<div>\n",
              "<style scoped>\n",
              "    .dataframe tbody tr th:only-of-type {\n",
              "        vertical-align: middle;\n",
              "    }\n",
              "\n",
              "    .dataframe tbody tr th {\n",
              "        vertical-align: top;\n",
              "    }\n",
              "\n",
              "    .dataframe thead tr th {\n",
              "        text-align: left;\n",
              "    }\n",
              "\n",
              "    .dataframe thead tr:last-of-type th {\n",
              "        text-align: right;\n",
              "    }\n",
              "</style>\n",
              "<table border=\"1\" class=\"dataframe\">\n",
              "  <thead>\n",
              "    <tr>\n",
              "      <th></th>\n",
              "      <th colspan=\"3\" halign=\"left\">views</th>\n",
              "    </tr>\n",
              "    <tr>\n",
              "      <th></th>\n",
              "      <th>count</th>\n",
              "      <th>nunique</th>\n",
              "      <th>size</th>\n",
              "    </tr>\n",
              "    <tr>\n",
              "      <th>category_title</th>\n",
              "      <th></th>\n",
              "      <th></th>\n",
              "      <th></th>\n",
              "    </tr>\n",
              "  </thead>\n",
              "  <tbody>\n",
              "    <tr>\n",
              "      <th>Autos &amp; Vehicles</th>\n",
              "      <td>384</td>\n",
              "      <td>384</td>\n",
              "      <td>384</td>\n",
              "    </tr>\n",
              "    <tr>\n",
              "      <th>Comedy</th>\n",
              "      <td>3457</td>\n",
              "      <td>3450</td>\n",
              "      <td>3457</td>\n",
              "    </tr>\n",
              "    <tr>\n",
              "      <th>Education</th>\n",
              "      <td>1656</td>\n",
              "      <td>1652</td>\n",
              "      <td>1656</td>\n",
              "    </tr>\n",
              "    <tr>\n",
              "      <th>Entertainment</th>\n",
              "      <td>9964</td>\n",
              "      <td>9918</td>\n",
              "      <td>9964</td>\n",
              "    </tr>\n",
              "    <tr>\n",
              "      <th>Film &amp; Animation</th>\n",
              "      <td>2345</td>\n",
              "      <td>2341</td>\n",
              "      <td>2345</td>\n",
              "    </tr>\n",
              "    <tr>\n",
              "      <th>Gaming</th>\n",
              "      <td>817</td>\n",
              "      <td>816</td>\n",
              "      <td>817</td>\n",
              "    </tr>\n",
              "    <tr>\n",
              "      <th>Howto &amp; Style</th>\n",
              "      <td>4146</td>\n",
              "      <td>4136</td>\n",
              "      <td>4146</td>\n",
              "    </tr>\n",
              "    <tr>\n",
              "      <th>Music</th>\n",
              "      <td>6472</td>\n",
              "      <td>6464</td>\n",
              "      <td>6472</td>\n",
              "    </tr>\n",
              "    <tr>\n",
              "      <th>News &amp; Politics</th>\n",
              "      <td>2487</td>\n",
              "      <td>2479</td>\n",
              "      <td>2487</td>\n",
              "    </tr>\n",
              "    <tr>\n",
              "      <th>Nonprofits &amp; Activism</th>\n",
              "      <td>57</td>\n",
              "      <td>57</td>\n",
              "      <td>57</td>\n",
              "    </tr>\n",
              "    <tr>\n",
              "      <th>People &amp; Blogs</th>\n",
              "      <td>3210</td>\n",
              "      <td>3205</td>\n",
              "      <td>3210</td>\n",
              "    </tr>\n",
              "    <tr>\n",
              "      <th>Pets &amp; Animals</th>\n",
              "      <td>920</td>\n",
              "      <td>920</td>\n",
              "      <td>920</td>\n",
              "    </tr>\n",
              "    <tr>\n",
              "      <th>Science &amp; Technology</th>\n",
              "      <td>2401</td>\n",
              "      <td>2397</td>\n",
              "      <td>2401</td>\n",
              "    </tr>\n",
              "    <tr>\n",
              "      <th>Shows</th>\n",
              "      <td>57</td>\n",
              "      <td>57</td>\n",
              "      <td>57</td>\n",
              "    </tr>\n",
              "    <tr>\n",
              "      <th>Sports</th>\n",
              "      <td>2174</td>\n",
              "      <td>2167</td>\n",
              "      <td>2174</td>\n",
              "    </tr>\n",
              "    <tr>\n",
              "      <th>Travel &amp; Events</th>\n",
              "      <td>402</td>\n",
              "      <td>401</td>\n",
              "      <td>402</td>\n",
              "    </tr>\n",
              "  </tbody>\n",
              "</table>\n",
              "</div>"
            ],
            "text/plain": [
              "                      views              \n",
              "                      count nunique  size\n",
              "category_title                           \n",
              "Autos & Vehicles        384     384   384\n",
              "Comedy                 3457    3450  3457\n",
              "Education              1656    1652  1656\n",
              "Entertainment          9964    9918  9964\n",
              "Film & Animation       2345    2341  2345\n",
              "Gaming                  817     816   817\n",
              "Howto & Style          4146    4136  4146\n",
              "Music                  6472    6464  6472\n",
              "News & Politics        2487    2479  2487\n",
              "Nonprofits & Activism    57      57    57\n",
              "People & Blogs         3210    3205  3210\n",
              "Pets & Animals          920     920   920\n",
              "Science & Technology   2401    2397  2401\n",
              "Shows                    57      57    57\n",
              "Sports                 2174    2167  2174\n",
              "Travel & Events         402     401   402"
            ]
          },
          "metadata": {
            "tags": []
          },
          "execution_count": 20
        }
      ]
    },
    {
      "cell_type": "code",
      "metadata": {
        "colab": {
          "base_uri": "https://localhost:8080/",
          "height": 181
        },
        "id": "zuRV5SBt4e0v",
        "outputId": "efe4d9a0-f5a0-4910-f17d-19751427c4ea"
      },
      "source": [
        "# Find the video which has maximum view count.\n",
        "df_merge[df_merge['views'].isin([df_merge.views.max()])]"
      ],
      "execution_count": null,
      "outputs": [
        {
          "output_type": "execute_result",
          "data": {
            "text/html": [
              "<div>\n",
              "<style scoped>\n",
              "    .dataframe tbody tr th:only-of-type {\n",
              "        vertical-align: middle;\n",
              "    }\n",
              "\n",
              "    .dataframe tbody tr th {\n",
              "        vertical-align: top;\n",
              "    }\n",
              "\n",
              "    .dataframe thead th {\n",
              "        text-align: right;\n",
              "    }\n",
              "</style>\n",
              "<table border=\"1\" class=\"dataframe\">\n",
              "  <thead>\n",
              "    <tr style=\"text-align: right;\">\n",
              "      <th></th>\n",
              "      <th>video_id</th>\n",
              "      <th>trending_date</th>\n",
              "      <th>title</th>\n",
              "      <th>channel_title</th>\n",
              "      <th>category_id</th>\n",
              "      <th>tags</th>\n",
              "      <th>views</th>\n",
              "      <th>likes</th>\n",
              "      <th>dislikes</th>\n",
              "      <th>comment_count</th>\n",
              "      <th>thumbnail_link</th>\n",
              "      <th>comments_disabled</th>\n",
              "      <th>ratings_disabled</th>\n",
              "      <th>video_error_or_removed</th>\n",
              "      <th>description</th>\n",
              "      <th>publish_date</th>\n",
              "      <th>days_to_trending</th>\n",
              "      <th>category_title</th>\n",
              "    </tr>\n",
              "  </thead>\n",
              "  <tbody>\n",
              "    <tr>\n",
              "      <th>31902</th>\n",
              "      <td>VYOjWnS4cMY</td>\n",
              "      <td>2018-06-02</td>\n",
              "      <td>Childish Gambino - This Is America (Official V...</td>\n",
              "      <td>ChildishGambinoVEVO</td>\n",
              "      <td>10</td>\n",
              "      <td>Childish Gambino|\"Rap\"|\"This Is America\"|\"mcDJ...</td>\n",
              "      <td>225211923</td>\n",
              "      <td>5023450</td>\n",
              "      <td>343541</td>\n",
              "      <td>517232</td>\n",
              "      <td>https://i.ytimg.com/vi/VYOjWnS4cMY/default.jpg</td>\n",
              "      <td>False</td>\n",
              "      <td>False</td>\n",
              "      <td>False</td>\n",
              "      <td>“This is America” by Childish Gambino http://s...</td>\n",
              "      <td>2018-05-06</td>\n",
              "      <td>27</td>\n",
              "      <td>Music</td>\n",
              "    </tr>\n",
              "  </tbody>\n",
              "</table>\n",
              "</div>"
            ],
            "text/plain": [
              "          video_id trending_date  ... days_to_trending category_title\n",
              "31902  VYOjWnS4cMY    2018-06-02  ...               27          Music\n",
              "\n",
              "[1 rows x 18 columns]"
            ]
          },
          "metadata": {
            "tags": []
          },
          "execution_count": 21
        }
      ]
    },
    {
      "cell_type": "markdown",
      "metadata": {
        "id": "8s9YnIsZ4mfu"
      },
      "source": [
        "225,211,923 views"
      ]
    },
    {
      "cell_type": "code",
      "metadata": {
        "id": "FGUVu1Mk6ztf"
      },
      "source": [
        "df = df_merge[[\"trending_date\", \"title\", \"channel_title\", \"category_id\", \"publish_date\", \"tags\", \"views\", \"likes\", \"dislikes\", \"comment_count\", \"description\"]]"
      ],
      "execution_count": null,
      "outputs": []
    },
    {
      "cell_type": "code",
      "metadata": {
        "colab": {
          "base_uri": "https://localhost:8080/",
          "height": 884
        },
        "id": "3jO2Lw23sTbl",
        "outputId": "e4e4f9b0-f559-46d7-f5cb-3b0e27bb9e1b"
      },
      "source": [
        "df.tail()"
      ],
      "execution_count": null,
      "outputs": [
        {
          "output_type": "execute_result",
          "data": {
            "text/html": [
              "<div>\n",
              "<style scoped>\n",
              "    .dataframe tbody tr th:only-of-type {\n",
              "        vertical-align: middle;\n",
              "    }\n",
              "\n",
              "    .dataframe tbody tr th {\n",
              "        vertical-align: top;\n",
              "    }\n",
              "\n",
              "    .dataframe thead th {\n",
              "        text-align: right;\n",
              "    }\n",
              "</style>\n",
              "<table border=\"1\" class=\"dataframe\">\n",
              "  <thead>\n",
              "    <tr style=\"text-align: right;\">\n",
              "      <th></th>\n",
              "      <th>trending_date</th>\n",
              "      <th>title</th>\n",
              "      <th>channel_title</th>\n",
              "      <th>category_id</th>\n",
              "      <th>publish_date</th>\n",
              "      <th>tags</th>\n",
              "      <th>views</th>\n",
              "      <th>likes</th>\n",
              "      <th>dislikes</th>\n",
              "      <th>comment_count</th>\n",
              "      <th>description</th>\n",
              "    </tr>\n",
              "  </thead>\n",
              "  <tbody>\n",
              "    <tr>\n",
              "      <th>40944</th>\n",
              "      <td>2018-06-02</td>\n",
              "      <td>Game of Zones - S5:E5: The Isle of Van Gundy</td>\n",
              "      <td>Bleacher Report</td>\n",
              "      <td>43</td>\n",
              "      <td>2018-05-10</td>\n",
              "      <td>bleacher report|\"br\"|\"nba\"|\"Stan Van Gundy\"|\"J...</td>\n",
              "      <td>1324482</td>\n",
              "      <td>22413</td>\n",
              "      <td>608</td>\n",
              "      <td>1644</td>\n",
              "      <td>On an island full of Van Gundys, Stan gets tal...</td>\n",
              "    </tr>\n",
              "    <tr>\n",
              "      <th>40945</th>\n",
              "      <td>2018-06-03</td>\n",
              "      <td>Game of Zones - S5:E5: The Isle of Van Gundy</td>\n",
              "      <td>Bleacher Report</td>\n",
              "      <td>43</td>\n",
              "      <td>2018-05-10</td>\n",
              "      <td>bleacher report|\"br\"|\"nba\"|\"Stan Van Gundy\"|\"J...</td>\n",
              "      <td>1332252</td>\n",
              "      <td>22461</td>\n",
              "      <td>610</td>\n",
              "      <td>1648</td>\n",
              "      <td>On an island full of Van Gundys, Stan gets tal...</td>\n",
              "    </tr>\n",
              "    <tr>\n",
              "      <th>40946</th>\n",
              "      <td>2018-06-04</td>\n",
              "      <td>Game of Zones - S5:E5: The Isle of Van Gundy</td>\n",
              "      <td>Bleacher Report</td>\n",
              "      <td>43</td>\n",
              "      <td>2018-05-10</td>\n",
              "      <td>bleacher report|\"br\"|\"nba\"|\"Stan Van Gundy\"|\"J...</td>\n",
              "      <td>1340039</td>\n",
              "      <td>22504</td>\n",
              "      <td>615</td>\n",
              "      <td>1648</td>\n",
              "      <td>On an island full of Van Gundys, Stan gets tal...</td>\n",
              "    </tr>\n",
              "    <tr>\n",
              "      <th>40947</th>\n",
              "      <td>2018-06-05</td>\n",
              "      <td>Game of Zones - S5:E5: The Isle of Van Gundy</td>\n",
              "      <td>Bleacher Report</td>\n",
              "      <td>43</td>\n",
              "      <td>2018-05-10</td>\n",
              "      <td>bleacher report|\"br\"|\"nba\"|\"Stan Van Gundy\"|\"J...</td>\n",
              "      <td>1345086</td>\n",
              "      <td>22542</td>\n",
              "      <td>615</td>\n",
              "      <td>1649</td>\n",
              "      <td>On an island full of Van Gundys, Stan gets tal...</td>\n",
              "    </tr>\n",
              "    <tr>\n",
              "      <th>40948</th>\n",
              "      <td>2018-06-06</td>\n",
              "      <td>Game of Zones - S5:E5: The Isle of Van Gundy</td>\n",
              "      <td>Bleacher Report</td>\n",
              "      <td>43</td>\n",
              "      <td>2018-05-10</td>\n",
              "      <td>bleacher report|\"br\"|\"nba\"|\"Stan Van Gundy\"|\"J...</td>\n",
              "      <td>1351321</td>\n",
              "      <td>22587</td>\n",
              "      <td>616</td>\n",
              "      <td>1649</td>\n",
              "      <td>On an island full of Van Gundys, Stan gets tal...</td>\n",
              "    </tr>\n",
              "  </tbody>\n",
              "</table>\n",
              "</div>"
            ],
            "text/plain": [
              "      trending_date  ...                                        description\n",
              "40944    2018-06-02  ...  On an island full of Van Gundys, Stan gets tal...\n",
              "40945    2018-06-03  ...  On an island full of Van Gundys, Stan gets tal...\n",
              "40946    2018-06-04  ...  On an island full of Van Gundys, Stan gets tal...\n",
              "40947    2018-06-05  ...  On an island full of Van Gundys, Stan gets tal...\n",
              "40948    2018-06-06  ...  On an island full of Van Gundys, Stan gets tal...\n",
              "\n",
              "[5 rows x 11 columns]"
            ]
          },
          "metadata": {
            "tags": []
          },
          "execution_count": 23
        }
      ]
    },
    {
      "cell_type": "code",
      "metadata": {
        "id": "tCceho7QsOxG"
      },
      "source": [
        "#df_us = df[df['publish_date']>='2018-05-01']"
      ],
      "execution_count": null,
      "outputs": []
    },
    {
      "cell_type": "markdown",
      "metadata": {
        "id": "s9BJgNyO_vXT"
      },
      "source": [
        "# Text Classification"
      ]
    },
    {
      "cell_type": "markdown",
      "metadata": {
        "id": "ltmzU856_otg"
      },
      "source": [
        "## Text Cleaning"
      ]
    },
    {
      "cell_type": "code",
      "metadata": {
        "id": "NaiBXOl7_3h2"
      },
      "source": [
        "df_merge['description'] = df_merge['description'].apply(lambda x: ','.join(map(str, x)))\n",
        "df_merge['tags'] = df_merge['tags'].apply(lambda x: ','.join(map(str, x)))\n",
        "\n",
        "# Change to lowercase\n",
        "df_merge['description'] = df_merge['description'].map(lambda x: x.lower())\n",
        "df_merge['tags'] = df_merge['tags'].map(lambda x: x.lower())\n",
        "\n",
        "# Remove numbers\n",
        "df_merge['description'] = df_merge['description'].map(lambda x: re.sub(r'\\d+', '', x))\n",
        "df_merge['tags'] = df_merge['tags'].map(lambda x: re.sub(r'\\d+', '', x))\n",
        "\n",
        "# Remove Punctuation\n",
        "df_merge['description']  = df_merge['description'].map(lambda x: x.translate(x.maketrans('', '', string.punctuation)))\n",
        "df_merge['tags'] = df_merge['tags'].map(lambda x: x.translate(x.maketrans('', '', string.punctuation)))\n",
        "\n",
        "# Remove white spaces\n",
        "df_merge['description'] = df_merge['description'].map(lambda x: x.strip())\n",
        "df_merge['tags'] = df_merge['tags'].map(lambda x: x.strip())\n",
        "\n",
        "# Tokenize into words\n",
        "df_merge['description'] = df_merge['description'].map(lambda x: word_tokenize(x))\n",
        "df_merge['tags'] = df_merge['tags'].map(lambda x: word_tokenize(x))\n",
        " \n",
        "# Remove non alphabetic tokens\n",
        "df_merge['description'] = df_merge['description'].map(lambda x: [word for word in x if word.isalpha()])\n",
        "df_merge['tags'] = df_merge['tags'].map(lambda x: [word for word in x if word.isalpha()])\n",
        "\n",
        "# filter out stop words\n",
        "stop_words = set(stopwords.words('english'))\n",
        "df_merge['description'] = df_merge['description'].map(lambda x: [w for w in x if not w in stop_words])\n",
        "df_merge['tags'] = df_merge['tags'].map(lambda x: [w for w in x if not w in stop_words])\n",
        "\n",
        "# Word Lemmatization\n",
        "lem = WordNetLemmatizer()\n",
        "df_merge['description'] = df_merge['description'].map(lambda x: [lem.lemmatize(word,\"v\") for word in x])\n",
        "df_merge['tags'] = df_merge['tags'].map(lambda x: [lem.lemmatize(word,\"v\") for word in x])\n",
        "\n",
        "# Turn lists back to string\n",
        "df_merge['description'] = df_merge['description'].map(lambda x: ' '.join(x))\n",
        "df_merge['tags'] = df_merge['tags'].map(lambda x: ' '.join(x))"
      ],
      "execution_count": null,
      "outputs": []
    },
    {
      "cell_type": "markdown",
      "metadata": {
        "id": "MprI11eBIEZP"
      },
      "source": [
        "Vectorizing text features using TF-IDF"
      ]
    },
    {
      "cell_type": "code",
      "metadata": {
        "id": "f8Ha7GiR_uub"
      },
      "source": [
        "# TF-IDF\n",
        "#from sklearn.feature_extraction.text import TfidfVectorizer\n",
        "#tfidf_tags = TfidfVectorizer(sublinear_tf=True, min_df=5, norm='l2', encoding='latin-1', ngram_range=(1, 2), stop_words='english')\n",
        "#labels = df.category_id\n",
        "#features_tags = tfidf_tags.fit_transform(df_merge.tags).toarray()\n",
        "#print('Tags Features Shape: ' + str(features_tags.shape))"
      ],
      "execution_count": null,
      "outputs": []
    },
    {
      "cell_type": "code",
      "metadata": {
        "id": "A_8UhGN070Od"
      },
      "source": [
        "#from wordcloud import WordCloud, STOPWORDS\n",
        "#plt.figure(figsize = (15,15))\n",
        "\n",
        "#stopwords = set(STOPWORDS)\n",
        "\n",
        "#wordcloud = WordCloud(\n",
        "#                          background_color='darkorange',\n",
        "#                          stopwords=stopwords,\n",
        "#                          max_words=1000,\n",
        "#                          max_font_size=120, \n",
        "#                          random_state=42\n",
        "#                         ).generate(str(df_merge['tags']))\n",
        "\n",
        "#print(wordcloud)\n",
        "#fig = plt.figure(1)\n",
        "#plt.imshow(wordcloud)\n",
        "#plt.title(\"WORD CLOUD - TITLES\")\n",
        "#plt.axis('off')\n",
        "#plt.show()"
      ],
      "execution_count": null,
      "outputs": []
    },
    {
      "cell_type": "markdown",
      "metadata": {
        "id": "24JkzH3eIT0U"
      },
      "source": [
        "Data Analysis and Feature Exploration"
      ]
    },
    {
      "cell_type": "code",
      "metadata": {
        "id": "5MF25VuEj-oK"
      },
      "source": [
        "sel_categories = ['Entertainment', 'Music', 'Howto & Style', 'Comedy', 'Film & Animation', \n",
        "            'People & Blogs', 'Science & Technology', 'Sports', 'Gaming' , 'News & Politics', \n",
        "            'Education', 'Pets & Animals', 'Travel & Events', 'Shows', 'Nonprofits & Activism', 'Autos & Vehicles']"
      ],
      "execution_count": null,
      "outputs": []
    },
    {
      "cell_type": "code",
      "metadata": {
        "colab": {
          "base_uri": "https://localhost:8080/",
          "height": 730
        },
        "id": "iXzWSO77IIWq",
        "outputId": "98424326-10ab-4df4-b8d7-e5cba0f9e524"
      },
      "source": [
        "# Plotting class distribution\n",
        "df_merge['category_title'].value_counts().sort_values(ascending=False).plot(kind='bar', title='Number of Videos for each Category').set(xlabel='category_title', ylabel='frequency')"
      ],
      "execution_count": null,
      "outputs": [
        {
          "output_type": "execute_result",
          "data": {
            "text/plain": [
              "[Text(0, 0.5, 'frequency'), Text(0.5, 0, 'category_title')]"
            ]
          },
          "metadata": {
            "tags": []
          },
          "execution_count": 29
        },
        {
          "output_type": "display_data",
          "data": {
            "image/png": "[encoded data removed]",
            "text/plain": [
              "<Figure size 842.4x595.44 with 1 Axes>"
            ]
          },
          "metadata": {
            "tags": []
          }
        }
      ]
    },
    {
      "cell_type": "code",
      "metadata": {
        "id": "F9dp8tIt2KAF"
      },
      "source": [
        "df_tags = df_merge[['category_title','tags']]"
      ],
      "execution_count": null,
      "outputs": []
    },
    {
      "cell_type": "code",
      "metadata": {
        "colab": {
          "base_uri": "https://localhost:8080/",
          "height": 406
        },
        "id": "8ju5WMm_3vJe",
        "outputId": "0e6c84e4-9f70-4b86-d5a5-97c1714fb97c"
      },
      "source": [
        "df_entertain = df_tags[df_merge.category_title == 'Entertainment']\n",
        "df_entertain"
      ],
      "execution_count": null,
      "outputs": [
        {
          "output_type": "execute_result",
          "data": {
            "text/html": [
              "<div>\n",
              "<style scoped>\n",
              "    .dataframe tbody tr th:only-of-type {\n",
              "        vertical-align: middle;\n",
              "    }\n",
              "\n",
              "    .dataframe tbody tr th {\n",
              "        vertical-align: top;\n",
              "    }\n",
              "\n",
              "    .dataframe thead th {\n",
              "        text-align: right;\n",
              "    }\n",
              "</style>\n",
              "<table border=\"1\" class=\"dataframe\">\n",
              "  <thead>\n",
              "    <tr style=\"text-align: right;\">\n",
              "      <th></th>\n",
              "      <th>category_title</th>\n",
              "      <th>tags</th>\n",
              "    </tr>\n",
              "  </thead>\n",
              "  <tbody>\n",
              "    <tr>\n",
              "      <th>3210</th>\n",
              "      <td>Entertainment</td>\n",
              "      <td>last week tonight trump presidencylast week to...</td>\n",
              "    </tr>\n",
              "    <tr>\n",
              "      <th>3211</th>\n",
              "      <td>Entertainment</td>\n",
              "      <td>rhett linkgmmgood mythical morningrhett link g...</td>\n",
              "    </tr>\n",
              "    <tr>\n",
              "      <th>3212</th>\n",
              "      <td>Entertainment</td>\n",
              "      <td>ryanhigahigatvnigahigai dare youidyrhpcdaresno...</td>\n",
              "    </tr>\n",
              "    <tr>\n",
              "      <th>3213</th>\n",
              "      <td>Entertainment</td>\n",
              "      <td>snlsaturday night livesnl season episode tiffa...</td>\n",
              "    </tr>\n",
              "    <tr>\n",
              "      <th>3214</th>\n",
              "      <td>Entertainment</td>\n",
              "      <td>walk deadshivatigerking ezekielepisode episode...</td>\n",
              "    </tr>\n",
              "    <tr>\n",
              "      <th>...</th>\n",
              "      <td>...</td>\n",
              "      <td>...</td>\n",
              "    </tr>\n",
              "    <tr>\n",
              "      <th>13169</th>\n",
              "      <td>Entertainment</td>\n",
              "      <td>abcamericanidolidolamerican idolryanseacrestry...</td>\n",
              "    </tr>\n",
              "    <tr>\n",
              "      <th>13170</th>\n",
              "      <td>Entertainment</td>\n",
              "      <td>voice season voice finale performanceslive fin...</td>\n",
              "    </tr>\n",
              "    <tr>\n",
              "      <th>13171</th>\n",
              "      <td>Entertainment</td>\n",
              "      <td>snlsaturday night livesnl season snl episode t...</td>\n",
              "    </tr>\n",
              "    <tr>\n",
              "      <th>13172</th>\n",
              "      <td>Entertainment</td>\n",
              "      <td>graham nortongraham norton show officialentert...</td>\n",
              "    </tr>\n",
              "    <tr>\n",
              "      <th>13173</th>\n",
              "      <td>Entertainment</td>\n",
              "      <td>give safiya nygaard perfect hair makeover base...</td>\n",
              "    </tr>\n",
              "  </tbody>\n",
              "</table>\n",
              "<p>9964 rows × 2 columns</p>\n",
              "</div>"
            ],
            "text/plain": [
              "      category_title                                               tags\n",
              "3210   Entertainment  last week tonight trump presidencylast week to...\n",
              "3211   Entertainment  rhett linkgmmgood mythical morningrhett link g...\n",
              "3212   Entertainment  ryanhigahigatvnigahigai dare youidyrhpcdaresno...\n",
              "3213   Entertainment  snlsaturday night livesnl season episode tiffa...\n",
              "3214   Entertainment  walk deadshivatigerking ezekielepisode episode...\n",
              "...              ...                                                ...\n",
              "13169  Entertainment  abcamericanidolidolamerican idolryanseacrestry...\n",
              "13170  Entertainment  voice season voice finale performanceslive fin...\n",
              "13171  Entertainment  snlsaturday night livesnl season snl episode t...\n",
              "13172  Entertainment  graham nortongraham norton show officialentert...\n",
              "13173  Entertainment  give safiya nygaard perfect hair makeover base...\n",
              "\n",
              "[9964 rows x 2 columns]"
            ]
          },
          "metadata": {
            "tags": []
          },
          "execution_count": 31
        }
      ]
    },
    {
      "cell_type": "code",
      "metadata": {
        "id": "kSk8Uv6iujHB"
      },
      "source": [
        "from sklearn.model_selection import train_test_split\n",
        "from sklearn.naive_bayes import MultinomialNB\n",
        "\n",
        "X = df_merge.tags\n",
        "y = df_merge.category_title\n",
        "X_train, X_test, y_train, y_test = train_test_split(X, y, test_size=0.3, random_state = 42)"
      ],
      "execution_count": null,
      "outputs": []
    },
    {
      "cell_type": "markdown",
      "metadata": {
        "id": "-UXOYIR53hHP"
      },
      "source": [
        "Let's train three classifiers to try to predict the category of a video based on tags."
      ]
    },
    {
      "cell_type": "markdown",
      "metadata": {
        "id": "QPqXeMCDDQJQ"
      },
      "source": [
        "# Naive Bayes"
      ]
    },
    {
      "cell_type": "code",
      "metadata": {
        "colab": {
          "base_uri": "https://localhost:8080/"
        },
        "id": "e0wQydZuhSBe",
        "outputId": "04b1ad9b-a2f0-4014-c666-77eae748e3af"
      },
      "source": [
        "from sklearn.naive_bayes import MultinomialNB\n",
        "from sklearn.pipeline import Pipeline\n",
        "from sklearn.feature_extraction.text import TfidfTransformer\n",
        "from sklearn.feature_extraction.text import CountVectorizer\n",
        "from sklearn.metrics import accuracy_score\n",
        "\n",
        "nb = Pipeline([('vect', CountVectorizer()),\n",
        "               ('tfidf', TfidfTransformer()),\n",
        "               ('clf', MultinomialNB()),\n",
        "              ])\n",
        "nb.fit(X_train, y_train)\n",
        "\n",
        "from sklearn.metrics import classification_report\n",
        "y_pred = nb.predict(X_test)\n",
        "\n",
        "print('accuracy %s' % accuracy_score(y_pred, y_test))\n",
        "print(classification_report(y_test, y_pred,target_names=sel_categories))"
      ],
      "execution_count": null,
      "outputs": [
        {
          "output_type": "stream",
          "text": [
            "accuracy 0.9163207163207163\n",
            "                       precision    recall  f1-score   support\n",
            "\n",
            "        Entertainment       1.00      0.48      0.65       117\n",
            "                Music       0.99      0.93      0.96      1011\n",
            "        Howto & Style       1.00      0.89      0.94       477\n",
            "               Comedy       0.78      0.99      0.88      3017\n",
            "     Film & Animation       1.00      0.86      0.92       713\n",
            "       People & Blogs       1.00      0.78      0.88       222\n",
            " Science & Technology       0.98      0.98      0.98      1252\n",
            "               Sports       0.94      0.96      0.95      1963\n",
            "               Gaming       0.99      0.87      0.93       721\n",
            "      News & Politics       0.00      0.00      0.00        22\n",
            "            Education       0.98      0.79      0.87       994\n",
            "       Pets & Animals       0.98      0.81      0.89       293\n",
            "      Travel & Events       0.97      0.87      0.92       694\n",
            "                Shows       1.00      0.65      0.79        17\n",
            "Nonprofits & Activism       0.98      0.93      0.96       649\n",
            "     Autos & Vehicles       1.00      0.57      0.73       123\n",
            "\n",
            "             accuracy                           0.92     12285\n",
            "            macro avg       0.91      0.77      0.83     12285\n",
            "         weighted avg       0.93      0.92      0.92     12285\n",
            "\n"
          ],
          "name": "stdout"
        },
        {
          "output_type": "stream",
          "text": [
            "/usr/local/lib/python3.7/dist-packages/sklearn/metrics/_classification.py:1272: UndefinedMetricWarning: Precision and F-score are ill-defined and being set to 0.0 in labels with no predicted samples. Use `zero_division` parameter to control this behavior.\n",
            "  _warn_prf(average, modifier, msg_start, len(result))\n"
          ],
          "name": "stderr"
        }
      ]
    },
    {
      "cell_type": "markdown",
      "metadata": {
        "id": "o6ghpoK7BD1z"
      },
      "source": [
        "We achieved 91.6% accuracy."
      ]
    },
    {
      "cell_type": "markdown",
      "metadata": {
        "id": "mgJtxq2k28EX"
      },
      "source": [
        "# Linear Support Vector Machine, which is regarded as one of the best text classification algorithm."
      ]
    },
    {
      "cell_type": "code",
      "metadata": {
        "colab": {
          "base_uri": "https://localhost:8080/"
        },
        "id": "5Fe1Al3UmrnV",
        "outputId": "3a28c2d3-06f6-4781-80d3-d5ba95afca43"
      },
      "source": [
        "from sklearn.linear_model import SGDClassifier\n",
        "\n",
        "sgd = Pipeline([('vect', CountVectorizer()),\n",
        "                ('tfidf', TfidfTransformer()),\n",
        "                ('clf', SGDClassifier(loss='hinge', penalty='l2',\n",
        "                alpha=1e-3, random_state=42, max_iter=5, tol=None)),\n",
        "               ])\n",
        "sgd.fit(X_train, y_train)\n",
        "\n",
        "y_pred = sgd.predict(X_test)\n",
        "\n",
        "print('accuracy %s' % accuracy_score(y_pred, y_test))\n",
        "print(classification_report(y_test, y_pred,target_names=sel_categories))"
      ],
      "execution_count": null,
      "outputs": [
        {
          "output_type": "stream",
          "text": [
            "accuracy 0.9318681318681319\n",
            "                       precision    recall  f1-score   support\n",
            "\n",
            "        Entertainment       1.00      0.83      0.91       117\n",
            "                Music       0.99      0.92      0.95      1011\n",
            "        Howto & Style       0.99      0.93      0.96       477\n",
            "               Comedy       0.91      0.96      0.93      3017\n",
            "     Film & Animation       0.99      0.86      0.92       713\n",
            "       People & Blogs       1.00      0.92      0.96       222\n",
            " Science & Technology       0.96      0.98      0.97      1252\n",
            "               Sports       0.96      0.96      0.96      1963\n",
            "               Gaming       0.97      0.90      0.94       721\n",
            "      News & Politics       1.00      0.64      0.78        22\n",
            "            Education       0.72      0.89      0.80       994\n",
            "       Pets & Animals       0.96      0.89      0.93       293\n",
            "      Travel & Events       0.97      0.89      0.93       694\n",
            "                Shows       1.00      1.00      1.00        17\n",
            "Nonprofits & Activism       0.98      0.94      0.96       649\n",
            "     Autos & Vehicles       0.99      0.76      0.86       123\n",
            "\n",
            "             accuracy                           0.93     12285\n",
            "            macro avg       0.96      0.89      0.92     12285\n",
            "         weighted avg       0.94      0.93      0.93     12285\n",
            "\n"
          ],
          "name": "stdout"
        }
      ]
    },
    {
      "cell_type": "markdown",
      "metadata": {
        "id": "mx_oSPJXBgQo"
      },
      "source": [
        "We achieve a higher accuracy score of 92% which is 1% improvement over Naive Bayes."
      ]
    },
    {
      "cell_type": "markdown",
      "metadata": {
        "id": "7Mpdyp0RBlH2"
      },
      "source": [
        "# Logistic Regression"
      ]
    },
    {
      "cell_type": "code",
      "metadata": {
        "colab": {
          "base_uri": "https://localhost:8080/"
        },
        "id": "h4aHE3rb4Gxy",
        "outputId": "348e3b46-232e-4997-b24d-4e186e5e70bc"
      },
      "source": [
        "from sklearn.linear_model import LogisticRegression\n",
        "\n",
        "logreg = Pipeline([('vect', CountVectorizer()),\n",
        "                ('tfidf', TfidfTransformer()),\n",
        "                ('clf', LogisticRegression(n_jobs=1, C=1e5)),\n",
        "               ])\n",
        "logreg.fit(X_train, y_train)\n",
        "\n",
        "y_pred = logreg.predict(X_test)\n",
        "\n",
        "print('accuracy %s' % accuracy_score(y_pred, y_test))\n",
        "print(classification_report(y_test, y_pred,target_names=sel_categories))"
      ],
      "execution_count": null,
      "outputs": [
        {
          "output_type": "stream",
          "text": [
            "/usr/local/lib/python3.7/dist-packages/sklearn/linear_model/_logistic.py:940: ConvergenceWarning: lbfgs failed to converge (status=1):\n",
            "STOP: TOTAL NO. of ITERATIONS REACHED LIMIT.\n",
            "\n",
            "Increase the number of iterations (max_iter) or scale the data as shown in:\n",
            "    https://scikit-learn.org/stable/modules/preprocessing.html\n",
            "Please also refer to the documentation for alternative solver options:\n",
            "    https://scikit-learn.org/stable/modules/linear_model.html#logistic-regression\n",
            "  extra_warning_msg=_LOGISTIC_SOLVER_CONVERGENCE_MSG)\n"
          ],
          "name": "stderr"
        },
        {
          "output_type": "stream",
          "text": [
            "accuracy 0.9606837606837607\n",
            "                       precision    recall  f1-score   support\n",
            "\n",
            "        Entertainment       1.00      0.97      0.99       117\n",
            "                Music       1.00      0.96      0.98      1011\n",
            "        Howto & Style       1.00      0.97      0.98       477\n",
            "               Comedy       0.97      0.97      0.97      3017\n",
            "     Film & Animation       0.99      0.93      0.96       713\n",
            "       People & Blogs       1.00      0.95      0.97       222\n",
            " Science & Technology       1.00      0.99      0.99      1252\n",
            "               Sports       0.99      0.96      0.98      1963\n",
            "               Gaming       0.99      0.93      0.96       721\n",
            "      News & Politics       1.00      1.00      1.00        22\n",
            "            Education       0.74      0.97      0.84       994\n",
            "       Pets & Animals       0.98      0.93      0.95       293\n",
            "      Travel & Events       0.99      0.92      0.95       694\n",
            "                Shows       1.00      1.00      1.00        17\n",
            "Nonprofits & Activism       1.00      0.96      0.98       649\n",
            "     Autos & Vehicles       0.96      0.87      0.91       123\n",
            "\n",
            "             accuracy                           0.96     12285\n",
            "            macro avg       0.97      0.96      0.96     12285\n",
            "         weighted avg       0.97      0.96      0.96     12285\n",
            "\n"
          ],
          "name": "stdout"
        }
      ]
    },
    {
      "cell_type": "markdown",
      "metadata": {
        "id": "JbNW-FU3BtO6"
      },
      "source": [
        "We achieve an accuracy score of 96% which is 5% higher than Naive Bayes and 4% higher than SVM."
      ]
    },
    {
      "cell_type": "markdown",
      "metadata": {
        "id": "8mKUhp6TDDsR"
      },
      "source": [
        "# Making Direct Predictions"
      ]
    },
    {
      "cell_type": "code",
      "metadata": {
        "colab": {
          "base_uri": "https://localhost:8080/"
        },
        "id": "DXt0WdsiFz5M",
        "outputId": "1a24ddab-0d88-4b28-ecc3-9415259a6fe6"
      },
      "source": [
        "nb.predict(['space'])"
      ],
      "execution_count": null,
      "outputs": [
        {
          "output_type": "execute_result",
          "data": {
            "text/plain": [
              "array(['Entertainment'], dtype='<U21')"
            ]
          },
          "metadata": {
            "tags": []
          },
          "execution_count": 36
        }
      ]
    },
    {
      "cell_type": "code",
      "metadata": {
        "colab": {
          "base_uri": "https://localhost:8080/"
        },
        "id": "-uBLV3f0Fqmt",
        "outputId": "0578080f-d0e8-473f-e3a1-a4f9ae9a66e8"
      },
      "source": [
        "sgd.predict(['space'])"
      ],
      "execution_count": null,
      "outputs": [
        {
          "output_type": "execute_result",
          "data": {
            "text/plain": [
              "array(['Science & Technology'], dtype='<U21')"
            ]
          },
          "metadata": {
            "tags": []
          },
          "execution_count": 37
        }
      ]
    },
    {
      "cell_type": "code",
      "metadata": {
        "colab": {
          "base_uri": "https://localhost:8080/"
        },
        "id": "51Q21sNNC3GI",
        "outputId": "7e0dc962-7c56-4632-b458-cfbab3b9fe94"
      },
      "source": [
        "logreg.predict(['space'])"
      ],
      "execution_count": null,
      "outputs": [
        {
          "output_type": "execute_result",
          "data": {
            "text/plain": [
              "array(['Science & Technology'], dtype=object)"
            ]
          },
          "metadata": {
            "tags": []
          },
          "execution_count": 38
        }
      ]
    },
    {
      "cell_type": "code",
      "metadata": {
        "colab": {
          "base_uri": "https://localhost:8080/"
        },
        "id": "KHguAs9YFpjX",
        "outputId": "a51e64b3-724f-4e4e-8bb9-3bb0b94cf91d"
      },
      "source": [
        "nb.predict(['keto diet'])"
      ],
      "execution_count": null,
      "outputs": [
        {
          "output_type": "execute_result",
          "data": {
            "text/plain": [
              "array(['Howto & Style'], dtype='<U21')"
            ]
          },
          "metadata": {
            "tags": []
          },
          "execution_count": 39
        }
      ]
    },
    {
      "cell_type": "code",
      "metadata": {
        "colab": {
          "base_uri": "https://localhost:8080/"
        },
        "id": "cToTWMU1GC6o",
        "outputId": "828ecaad-418a-4cdd-e810-b8053e860825"
      },
      "source": [
        "sgd.predict(['keto diet'])"
      ],
      "execution_count": null,
      "outputs": [
        {
          "output_type": "execute_result",
          "data": {
            "text/plain": [
              "array(['Comedy'], dtype='<U21')"
            ]
          },
          "metadata": {
            "tags": []
          },
          "execution_count": 40
        }
      ]
    },
    {
      "cell_type": "code",
      "metadata": {
        "colab": {
          "base_uri": "https://localhost:8080/"
        },
        "id": "52vxASiwGF4n",
        "outputId": "05177bed-8256-406d-eaae-989be16f4cb3"
      },
      "source": [
        "logreg.predict(['keto diet'])"
      ],
      "execution_count": null,
      "outputs": [
        {
          "output_type": "execute_result",
          "data": {
            "text/plain": [
              "array(['News & Politics'], dtype=object)"
            ]
          },
          "metadata": {
            "tags": []
          },
          "execution_count": 41
        }
      ]
    },
    {
      "cell_type": "code",
      "metadata": {
        "colab": {
          "base_uri": "https://localhost:8080/"
        },
        "id": "MGaZ_sPSGXCT",
        "outputId": "3e21f04c-8cb1-46ff-b65c-88c87e84b68c"
      },
      "source": [
        "nb.predict(['deadpool 2'])"
      ],
      "execution_count": null,
      "outputs": [
        {
          "output_type": "execute_result",
          "data": {
            "text/plain": [
              "array(['Film & Animation'], dtype='<U21')"
            ]
          },
          "metadata": {
            "tags": []
          },
          "execution_count": 42
        }
      ]
    },
    {
      "cell_type": "code",
      "metadata": {
        "colab": {
          "base_uri": "https://localhost:8080/"
        },
        "id": "RWsbsbEWGaq7",
        "outputId": "47cbe805-4600-4faa-d227-77297eed3843"
      },
      "source": [
        "sgd.predict(['deadpool 2'])"
      ],
      "execution_count": null,
      "outputs": [
        {
          "output_type": "execute_result",
          "data": {
            "text/plain": [
              "array(['Film & Animation'], dtype='<U21')"
            ]
          },
          "metadata": {
            "tags": []
          },
          "execution_count": 43
        }
      ]
    },
    {
      "cell_type": "code",
      "metadata": {
        "colab": {
          "base_uri": "https://localhost:8080/"
        },
        "id": "8tWsFd77Gdd4",
        "outputId": "c60aa2d3-6525-4ca4-9f17-512162d84ca3"
      },
      "source": [
        "logreg.predict(['deadpool 2'])"
      ],
      "execution_count": null,
      "outputs": [
        {
          "output_type": "execute_result",
          "data": {
            "text/plain": [
              "array(['Film & Animation'], dtype=object)"
            ]
          },
          "metadata": {
            "tags": []
          },
          "execution_count": 44
        }
      ]
    }
  ]
}